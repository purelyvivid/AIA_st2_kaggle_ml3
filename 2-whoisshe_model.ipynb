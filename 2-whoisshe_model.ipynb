{
 "cells": [
  {
   "cell_type": "code",
   "execution_count": 1,
   "metadata": {},
   "outputs": [],
   "source": [
    "from PIL import Image\n",
    "import numpy as np\n",
    "import pandas as pd\n",
    "import pickle"
   ]
  },
  {
   "cell_type": "markdown",
   "metadata": {},
   "source": [
    "# Load Data"
   ]
  },
  {
   "cell_type": "code",
   "execution_count": 2,
   "metadata": {},
   "outputs": [
    {
     "name": "stdout",
     "output_type": "stream",
     "text": [
      "(529, 224, 224, 3) (529,) (438, 224, 224, 3)\n",
      "(529,) (438,)\n"
     ]
    }
   ],
   "source": [
    "subfilename = \".npy\"\n",
    "X_train = np.load(\"data/X_train\"+subfilename)\n",
    "y_train = np.load(\"data/y_train\"+subfilename)\n",
    "X_test = np.load(\"data/X_test\"+subfilename)\n",
    "ids_train = np.load(\"data/ids_train\"+subfilename)\n",
    "ids_test = np.load(\"data/ids_test\"+subfilename)\n",
    "print(X_train.shape, y_train.shape, X_test.shape)\n",
    "print(ids_train.shape, ids_test.shape)"
   ]
  },
  {
   "cell_type": "code",
   "execution_count": 3,
   "metadata": {},
   "outputs": [
    {
     "name": "stdout",
     "output_type": "stream",
     "text": [
      "529 438\n"
     ]
    }
   ],
   "source": [
    "FD_train_list = pickle.load(open(\"data/FD_train_list.pkl\", \"rb\") )\n",
    "FD_test_list = pickle.load(open(\"data/FD_test_list.pkl\", \"rb\") )\n",
    "print(len(FD_train_list), len(FD_test_list))"
   ]
  },
  {
   "cell_type": "markdown",
   "metadata": {},
   "source": [
    "# 1-NN (handy)"
   ]
  },
  {
   "cell_type": "raw",
   "metadata": {},
   "source": [
    "# 找距離最近的一張臉, 用它當作答案\n",
    "y_pred = []\n",
    "for id_test, FD_test in zip(ids_test, FD_test_list):\n",
    "    if not FD_test  is None:\n",
    "        min_distance = 999999\n",
    "        y = -1\n",
    "        for FD_train, y_ in zip(FD_train_list, y_train):\n",
    "            if not FD_train is None:\n",
    "                distance = (np.sum((FD_train-FD_test)**2))**0.5\n",
    "                if distance < min_distance:\n",
    "                    min_distance = distance\n",
    "                    y = int(y_)                  \n",
    "    else:\n",
    "        y = np.random.randint(5)\n",
    "    y_pred.append(y)\n"
   ]
  },
  {
   "cell_type": "raw",
   "metadata": {},
   "source": [
    "model_name = \"1NN\""
   ]
  },
  {
   "cell_type": "raw",
   "metadata": {},
   "source": [
    "from datetime import datetime\n",
    "df_op = pd.DataFrame({'id':ids_test, 'class': y_pred})\n",
    "print(\"預測結果: \", df_op.groupby('class').count().to_dict()['id'])\n",
    "t_str = datetime.strftime(datetime.now(), \"%Y%m%d%H%M%S\")\n",
    "pth = f'submit/{model_name}_submission_{t_str}.csv'\n",
    "df_op.to_csv(pth, index=False) \n",
    "print(f'save scv: {pth}') # acc: 0.83"
   ]
  },
  {
   "cell_type": "markdown",
   "metadata": {},
   "source": [
    "# Split Has FD / Don't have FD"
   ]
  },
  {
   "cell_type": "code",
   "execution_count": 4,
   "metadata": {},
   "outputs": [],
   "source": [
    "def split_with_n_without_FD(ids, X, FD_list):\n",
    "    index_w_FD = []\n",
    "    id_w_FD = []\n",
    "    FD_list_w_FD = []\n",
    "    index_wo_FD = []\n",
    "    id_wo_FD = []\n",
    "    X_wo_FD = []\n",
    "    for i, (id_, X_, FD) in enumerate(zip(ids, X, FD_list)):\n",
    "        if not FD is None:\n",
    "            index_w_FD.append(i)\n",
    "            id_w_FD.append(id_)\n",
    "            FD_list_w_FD.append(FD)\n",
    "        else:\n",
    "            index_wo_FD.append(i)\n",
    "            id_wo_FD.append(id_)\n",
    "            X_wo_FD.append(X_)\n",
    "            \n",
    "    return  np.array(index_w_FD), np.array(index_wo_FD), \\\n",
    "            np.array(id_w_FD), np.array(FD_list_w_FD), \\\n",
    "            np.array(id_wo_FD), np.array(X_wo_FD)"
   ]
  },
  {
   "cell_type": "code",
   "execution_count": 5,
   "metadata": {},
   "outputs": [
    {
     "name": "stdout",
     "output_type": "stream",
     "text": [
      "CPU times: user 38 ms, sys: 123 ms, total: 161 ms\n",
      "Wall time: 220 ms\n"
     ]
    }
   ],
   "source": [
    "%%time \n",
    "# train\n",
    "index_train_w_FD, index_train_wo_FD, id_train_w_FD,  \\\n",
    "FD_train_list_w_FD,  id_train_wo_FD, X_train_wo_FD = \\\n",
    "split_with_n_without_FD(ids_train, X_train, FD_train_list)\n",
    "# test\n",
    "index_test_w_FD, index_test_wo_FD, id_test_w_FD,  \\\n",
    "FD_test_list_w_FD,  id_test_wo_FD, X_test_wo_FD = \\\n",
    "split_with_n_without_FD(ids_test, X_test, FD_test_list)"
   ]
  },
  {
   "cell_type": "code",
   "execution_count": 6,
   "metadata": {},
   "outputs": [
    {
     "data": {
      "text/plain": [
       "((413,),\n",
       " (116,),\n",
       " (413,),\n",
       " (413, 128),\n",
       " (116,),\n",
       " (116, 224, 224, 3),\n",
       " (413, 128),\n",
       " (361, 128))"
      ]
     },
     "execution_count": 6,
     "metadata": {},
     "output_type": "execute_result"
    }
   ],
   "source": [
    "# print shape\n",
    "index_train_w_FD.shape, index_train_wo_FD.shape, id_train_w_FD.shape,  \\\n",
    "FD_train_list_w_FD.shape,  id_train_wo_FD.shape, X_train_wo_FD.shape, \\\n",
    "FD_train_list_w_FD.shape, FD_test_list_w_FD.shape"
   ]
  },
  {
   "cell_type": "code",
   "execution_count": 7,
   "metadata": {},
   "outputs": [
    {
     "data": {
      "text/plain": [
       "((413,), (116,))"
      ]
     },
     "execution_count": 7,
     "metadata": {},
     "output_type": "execute_result"
    }
   ],
   "source": [
    "y_train_w_FD = y_train[index_train_w_FD]\n",
    "y_train_wo_FD = y_train[index_train_wo_FD]\n",
    "y_train_w_FD.shape, y_train_wo_FD.shape"
   ]
  },
  {
   "cell_type": "code",
   "execution_count": 21,
   "metadata": {},
   "outputs": [
    {
     "data": {
      "text/plain": [
       "array([0., 0., 0., 0., 0., 0., 0., 0., 0., 0., 0., 0., 0., 0., 0., 0., 0.,\n",
       "       0., 0., 0., 0., 0., 0., 0., 0., 0., 0., 0., 0., 0., 0., 0., 0., 0.,\n",
       "       1., 1., 1., 1., 1., 1., 1., 1., 1., 1., 1., 1., 1., 1., 1., 1., 1.,\n",
       "       1., 2., 2., 2., 2., 2., 2., 2., 2., 2., 2., 2., 2., 2., 2., 2., 2.,\n",
       "       2., 2., 2., 2., 2., 2., 2., 2., 2., 2., 3., 3., 3., 3., 3., 3., 3.,\n",
       "       4., 4., 4., 4., 4., 4., 4., 4., 4., 4., 4., 4., 4., 4., 4., 4., 4.,\n",
       "       4., 4., 4., 4., 4., 4., 4., 4., 4., 4., 4., 4., 4., 4.])"
      ]
     },
     "execution_count": 21,
     "metadata": {},
     "output_type": "execute_result"
    }
   ],
   "source": [
    "y_train_wo_FD"
   ]
  },
  {
   "cell_type": "markdown",
   "metadata": {},
   "source": [
    "# Use kNN to classify FD"
   ]
  },
  {
   "cell_type": "code",
   "execution_count": 42,
   "metadata": {},
   "outputs": [
    {
     "data": {
      "text/plain": [
       "0.9612590799031477"
      ]
     },
     "execution_count": 42,
     "metadata": {},
     "output_type": "execute_result"
    }
   ],
   "source": [
    "from sklearn.neighbors import KNeighborsClassifier\n",
    "cls_knn = KNeighborsClassifier()\n",
    "cls_knn.fit(FD_train_list_w_FD, y_train_w_FD)\n",
    "cls_knn.score(FD_train_list_w_FD, y_train_w_FD)"
   ]
  },
  {
   "cell_type": "code",
   "execution_count": 43,
   "metadata": {},
   "outputs": [],
   "source": [
    "y_pred_w_FD_knn = cls_knn.predict(FD_test_list_w_FD)"
   ]
  },
  {
   "cell_type": "markdown",
   "metadata": {},
   "source": [
    "# Use Linear Model to classify FD"
   ]
  },
  {
   "cell_type": "code",
   "execution_count": 46,
   "metadata": {},
   "outputs": [
    {
     "data": {
      "text/plain": [
       "0.9709443099273608"
      ]
     },
     "execution_count": 46,
     "metadata": {},
     "output_type": "execute_result"
    }
   ],
   "source": [
    "from sklearn.linear_model import RidgeClassifier\n",
    "cls = RidgeClassifier()\n",
    "cls.fit(FD_train_list_w_FD, y_train_w_FD)\n",
    "cls.score(FD_train_list_w_FD, y_train_w_FD)"
   ]
  },
  {
   "cell_type": "code",
   "execution_count": 47,
   "metadata": {},
   "outputs": [],
   "source": [
    "y_pred_w_FD_linear = cls.predict(FD_test_list_w_FD)"
   ]
  },
  {
   "cell_type": "code",
   "execution_count": 57,
   "metadata": {},
   "outputs": [
    {
     "name": "stdout",
     "output_type": "stream",
     "text": [
      "預測結果:  {0: 52, 1: 61, 2: 59, 3: 80, 4: 109}\n"
     ]
    }
   ],
   "source": [
    "df_op_w_FD_linear = pd.DataFrame({'id':id_test_w_FD, 'class': y_pred_w_FD_linear.astype(int) })\n",
    "print(\"預測結果: \", df_op_w_FD_linear.groupby('class').count().to_dict()['id'])"
   ]
  },
  {
   "cell_type": "markdown",
   "metadata": {},
   "source": [
    "# Use VGGface for feature extration"
   ]
  },
  {
   "cell_type": "code",
   "execution_count": 24,
   "metadata": {},
   "outputs": [],
   "source": [
    "from keras.engine import  Model\n",
    "from keras.layers import Input\n",
    "from keras_vggface.vggface import VGGFace\n",
    "\n",
    "# Convolution Features\n",
    "model = VGGFace(include_top=False, input_shape=(224, 224, 3), pooling='avg') "
   ]
  },
  {
   "cell_type": "code",
   "execution_count": 37,
   "metadata": {},
   "outputs": [],
   "source": [
    "vgg_features_train_wo_FD = model.predict(X_train_wo_FD)\n",
    "vgg_features_test_wo_FD = model.predict(X_test_wo_FD)"
   ]
  },
  {
   "cell_type": "code",
   "execution_count": 39,
   "metadata": {},
   "outputs": [
    {
     "data": {
      "text/plain": [
       "((116, 512), (77, 512))"
      ]
     },
     "execution_count": 39,
     "metadata": {},
     "output_type": "execute_result"
    }
   ],
   "source": [
    "vgg_features_train_wo_FD.shape, vgg_features_test_wo_FD.shape"
   ]
  },
  {
   "cell_type": "markdown",
   "metadata": {},
   "source": [
    "# Use kNN to classify wo_FD"
   ]
  },
  {
   "cell_type": "code",
   "execution_count": 48,
   "metadata": {},
   "outputs": [
    {
     "data": {
      "text/plain": [
       "0.6637931034482759"
      ]
     },
     "execution_count": 48,
     "metadata": {},
     "output_type": "execute_result"
    }
   ],
   "source": [
    "from sklearn.neighbors import KNeighborsClassifier\n",
    "cls_knn = KNeighborsClassifier()\n",
    "cls_knn.fit(vgg_features_train_wo_FD, y_train_wo_FD)\n",
    "cls_knn.score(vgg_features_train_wo_FD, y_train_wo_FD)"
   ]
  },
  {
   "cell_type": "markdown",
   "metadata": {},
   "source": [
    "# Use Linear Model to classify wo_FD"
   ]
  },
  {
   "cell_type": "code",
   "execution_count": 50,
   "metadata": {},
   "outputs": [
    {
     "data": {
      "text/plain": [
       "0.8793103448275862"
      ]
     },
     "execution_count": 50,
     "metadata": {},
     "output_type": "execute_result"
    }
   ],
   "source": [
    "from sklearn.linear_model import RidgeClassifier\n",
    "cls = RidgeClassifier()\n",
    "cls.fit(vgg_features_train_wo_FD, y_train_wo_FD)\n",
    "cls.score(vgg_features_train_wo_FD, y_train_wo_FD)"
   ]
  },
  {
   "cell_type": "code",
   "execution_count": 51,
   "metadata": {},
   "outputs": [],
   "source": [
    "y_pred_wo_FD_linear = cls.predict(vgg_features_test_wo_FD)"
   ]
  },
  {
   "cell_type": "code",
   "execution_count": 55,
   "metadata": {},
   "outputs": [
    {
     "name": "stdout",
     "output_type": "stream",
     "text": [
      "預測結果:  {0: 27, 1: 5, 2: 27, 3: 1, 4: 17}\n"
     ]
    }
   ],
   "source": [
    "df_op_wo_FD_linear = pd.DataFrame({'id':id_test_wo_FD, 'class': y_pred_wo_FD_linear.astype(int) })\n",
    "print(\"預測結果: \", df_op_wo_FD_linear.groupby('class').count().to_dict()['id'])"
   ]
  },
  {
   "cell_type": "markdown",
   "metadata": {},
   "source": [
    "# Save out"
   ]
  },
  {
   "cell_type": "code",
   "execution_count": 58,
   "metadata": {},
   "outputs": [
    {
     "data": {
      "text/plain": [
       "(438, 2)"
      ]
     },
     "execution_count": 58,
     "metadata": {},
     "output_type": "execute_result"
    }
   ],
   "source": [
    "df_op = pd.concat((df_op_w_FD_linear, df_op_wo_FD_linear), 0)\n",
    "df_op.shape"
   ]
  },
  {
   "cell_type": "code",
   "execution_count": 59,
   "metadata": {},
   "outputs": [
    {
     "name": "stdout",
     "output_type": "stream",
     "text": [
      "save scv: submit/submission_20191007035443.csv\n"
     ]
    }
   ],
   "source": [
    "from datetime import datetime\n",
    "t_str = datetime.strftime(datetime.now(), \"%Y%m%d%H%M%S\")\n",
    "pth = f'submit/submission_{t_str}.csv'\n",
    "df_op.to_csv(pth, index=False) \n",
    "print(f'save scv: {pth}') # acc: 0.83"
   ]
  },
  {
   "cell_type": "code",
   "execution_count": null,
   "metadata": {},
   "outputs": [],
   "source": []
  }
 ],
 "metadata": {
  "kernelspec": {
   "display_name": "Python 3",
   "language": "python",
   "name": "python3"
  },
  "language_info": {
   "codemirror_mode": {
    "name": "ipython",
    "version": 3
   },
   "file_extension": ".py",
   "mimetype": "text/x-python",
   "name": "python",
   "nbconvert_exporter": "python",
   "pygments_lexer": "ipython3",
   "version": "3.6.6"
  }
 },
 "nbformat": 4,
 "nbformat_minor": 2
}
